{
 "cells": [
  {
   "cell_type": "markdown",
   "metadata": {},
   "source": [
    "# Distress Detection from Speech Data"
   ]
  },
  {
   "cell_type": "markdown",
   "metadata": {},
   "source": [
    "Distress is defined as feeling of anxiety, fear and pain. Whenever a human being is in distress, it is reflected in their voice. Distress detection has many real life applications for elderly, people under protection, people living in dangerous areas, people travelling alone at night, etc. In this project, we are trying to detect distress from speech data using an artificial neural network."
   ]
  },
  {
   "cell_type": "code",
   "execution_count": 10,
   "metadata": {},
   "outputs": [],
   "source": [
    "import os\n",
    "import librosa\n",
    "import tensorflow as tf\n",
    "from librosa.display import specshow\n",
    "import matplotlib.pyplot as plt\n",
    "import seaborn as sns\n",
    "import numpy as np\n",
    "import pandas as pd\n",
    "from keras.preprocessing.sequence import pad_sequences\n",
    "from keras import Input\n",
    "from sklearn.model_selection import train_test_split\n",
    "from tensorflow.keras.layers import Activation, Dense, Dropout, Conv2D, \\\n",
    "                         Flatten, MaxPooling2D\n",
    "\n",
    "%matplotlib inline\n",
    "sns.set()"
   ]
  },
  {
   "cell_type": "markdown",
   "metadata": {},
   "source": [
    "### Dataset: CREMA-D\n",
    "CREMA-D is a data set of 7,442 original clips from 91 actors. These clips were from 48 male and 43 female actors between the ages of 20 and 74 coming from a variety of races and ethnicities (African America, Asian, Caucasian, Hispanic, and Unspecified).  \n",
    "Actors spoke from a selection of 12 sentences. The sentences were presented using one of six different emotions (Anger, Disgust, Fear, Happy, Neutral, and Sad) and four different emotion levels (Low, Medium, High, and Unspecified).\n",
    "#### Filename labeling conventions\n",
    "The Actor id is a 4 digit number at the start of the file. Each subsequent identifier is separated by an underscore (_).  \n",
    "\n",
    "Actors spoke from a selection of 12 sentences (in parentheses is the three letter acronym used in the second part of the filename):\n",
    "* It's eleven o'clock (IEO).\n",
    "* That is exactly what happened (TIE).\n",
    "* I'm on my way to the meeting (IOM).\n",
    "* I wonder what this is about (IWW).\n",
    "* The airplane is almost full (TAI).\n",
    "* Maybe tomorrow it will be cold (MTI).\n",
    "* I would like a new alarm clock (IWL)\n",
    "* I think I have a doctor's appointment (ITH).\n",
    "* Don't forget a jacket (DFA).\n",
    "* I think I've seen this before (ITS).\n",
    "* The surface is slick (TSI).\n",
    "* We'll stop in a couple of minutes (WSI).\n",
    "\n",
    "The sentences were presented using different emotion (in parentheses is the three letter code used in the third part of the filename):\n",
    "\n",
    "* Anger (ANG)\n",
    "* Disgust (DIS)\n",
    "* Fear (FEA)\n",
    "* Happy/Joy (HAP)\n",
    "* Neutral (NEU)\n",
    "* Sad (SAD)\n",
    "\n",
    "and emotion level (in parentheses is the two letter code used in the fourth part of the filename):\n",
    "\n",
    "* Low (LO)\n",
    "* Medium (MD)\n",
    "* High (HI)\n",
    "* Unspecified (XX)"
   ]
  },
  {
   "cell_type": "code",
   "execution_count": 11,
   "metadata": {},
   "outputs": [],
   "source": [
    "# Loading the name of audio files\n",
    "audio_files = os.listdir(r'AudioWAV')\n",
    "audio_files = ['AudioWAV/'+file for file in audio_files]\n",
    "label = [0] * len(audio_files)"
   ]
  },
  {
   "cell_type": "code",
   "execution_count": 12,
   "metadata": {},
   "outputs": [],
   "source": [
    "# Assigning a class label to each audio file\n",
    "for i in range(len(audio_files)):\n",
    "    name = audio_files[i].split('_')\n",
    "    if 'ANG' in name:\n",
    "        label[i] = 1\n",
    "    elif 'FEA' in name:\n",
    "        label[i] = 2"
   ]
  },
  {
   "cell_type": "code",
   "execution_count": 13,
   "metadata": {},
   "outputs": [
    {
     "name": "stdout",
     "output_type": "stream",
     "text": [
      "[22050]\n"
     ]
    }
   ],
   "source": [
    "#Lets find the sample rate of wav files\n",
    "sample_rate = []\n",
    "for i in (audio_files):\n",
    "    _,sr = librosa.load(i)\n",
    "    sample_rate.append(sr)\n",
    "print(np.unique(np.asarray(sample_rate)))"
   ]
  },
  {
   "cell_type": "code",
   "execution_count": 14,
   "metadata": {},
   "outputs": [],
   "source": [
    "#GLOBAL VARIABLES\n",
    "SR = 22050\n",
    "MAXLEN = 22050*4\n",
    "N_FFT = 1024\n",
    "HOP_LENGTH = 512\n",
    "N_MFCC = 20"
   ]
  },
  {
   "cell_type": "code",
   "execution_count": 15,
   "metadata": {},
   "outputs": [],
   "source": [
    "# Loading the wav files\n",
    "data = [librosa.load(file, sr = 22050)[0] for file in audio_files]"
   ]
  },
  {
   "cell_type": "markdown",
   "metadata": {},
   "source": [
    "### Audio Length"
   ]
  },
  {
   "cell_type": "code",
   "execution_count": 16,
   "metadata": {},
   "outputs": [
    {
     "name": "stdout",
     "output_type": "stream",
     "text": [
      "Min Duration:1.0 sec\n",
      "Max Duration:5.0 sec\n"
     ]
    }
   ],
   "source": [
    "# Finding the minimum and maximum duration of files in dataset\n",
    "duration = [round(len(aud)/SR, 0) for aud in data]\n",
    "print('Min Duration:' +str(min(duration))+' sec')\n",
    "print('Max Duration:' +str(max(duration))+' sec')"
   ]
  },
  {
   "cell_type": "code",
   "execution_count": 17,
   "metadata": {},
   "outputs": [
    {
     "data": {
      "text/plain": [
       "<matplotlib.axes._subplots.AxesSubplot at 0x13736dd68>"
      ]
     },
     "execution_count": 17,
     "metadata": {},
     "output_type": "execute_result"
    },
    {
     "data": {
      "image/png": "[encoded data removed]",
      "text/plain": [
       "<Figure size 432x288 with 1 Axes>"
      ]
     },
     "metadata": {},
     "output_type": "display_data"
    }
   ],
   "source": [
    "# Histogram of audio lengths\n",
    "audio_length = pd.Series(duration).value_counts().reset_index()\n",
    "audio_length.columns = ['index', 'count']\n",
    "audio_length.sort_values(by = 'index', inplace=True)\n",
    "audio_length.plot(kind = 'bar', x = 'index', y = 'count')"
   ]
  },
  {
   "cell_type": "markdown",
   "metadata": {},
   "source": [
    "As we can see from the graph of length of audio files, most of the files are 2-4 second long. Hence, we have decided to convert all audio clips to 4 second long. We do this by padding shorter clips or by clipping files with longer duration."
   ]
  },
  {
   "cell_type": "code",
   "execution_count": 18,
   "metadata": {},
   "outputs": [],
   "source": [
    "# Padding\n",
    "data = pad_sequences(data, maxlen=MAXLEN, dtype = 'float32')"
   ]
  },
  {
   "cell_type": "code",
   "execution_count": 19,
   "metadata": {},
   "outputs": [
    {
     "data": {
      "text/plain": [
       "numpy.ndarray"
      ]
     },
     "execution_count": 19,
     "metadata": {},
     "output_type": "execute_result"
    }
   ],
   "source": [
    "type(data[0])"
   ]
  },
  {
   "cell_type": "code",
   "execution_count": 20,
   "metadata": {},
   "outputs": [
    {
     "name": "stdout",
     "output_type": "stream",
     "text": [
      "[88200]\n"
     ]
    }
   ],
   "source": [
    "data_length = []\n",
    "\n",
    "for i in (data):\n",
    "    data_length.append(i.shape)\n",
    "print(np.unique(np.asarray(data_length)))"
   ]
  },
  {
   "cell_type": "code",
   "execution_count": 21,
   "metadata": {},
   "outputs": [],
   "source": [
    "np.save('data', data)\n",
    "np.save('label', label)"
   ]
  },
  {
   "cell_type": "markdown",
   "metadata": {},
   "source": [
    "### Listening to Audio Files\n",
    "#### ANGER\n",
    "<audio src=\"AudioWAV/1001_DFA_ANG_XX.wav\" controls>Audio file not availablle</audio>\n",
    "#### FEAR\n",
    "<audio src=\"AudioWAV/1001_DFA_FEA_XX.wav\" controls>Audio file not availablle</audio>\n",
    "#### OTHER\n",
    "##### DISGUST\n",
    "<audio src=\"AudioWAV/1001_DFA_DIS_XX.wav\" controls>Audio file not availablle</audio>\n",
    "##### HAPPY\n",
    "<audio src=\"AudioWAV/1001_DFA_HAP_XX.wav\" controls>Audio file not availablle</audio>\n",
    "##### NEUTRAL\n",
    "<audio src=\"AudioWAV/1001_DFA_NEU_XX.wav\" controls>Audio file not availablle</audio>\n",
    "##### SAD\n",
    "<audio src=\"AudioWAV/1001_DFA_SAD_XX.wav\" controls>Audio file not availablle</audio>"
   ]
  },
  {
   "cell_type": "markdown",
   "metadata": {},
   "source": [
    "### Data Distribution"
   ]
  },
  {
   "cell_type": "code",
   "execution_count": 22,
   "metadata": {},
   "outputs": [
    {
     "data": {
      "image/png": "[encoded data removed]",
      "text/plain": [
       "<Figure size 432x288 with 1 Axes>"
      ]
     },
     "metadata": {},
     "output_type": "display_data"
    }
   ],
   "source": [
    "values, count = np.unique(label, return_counts=True)\n",
    "plt.figsize = (16,10)\n",
    "plt.bar(values, count)\n",
    "plt.xlabel('Emotion')\n",
    "plt.title('Number of Audio Samples per Category')\n",
    "plt.ylabel('Number of Audio Samples')\n",
    "plt.xticks([0, 1, 2], ['Other', 'Anger', 'Fear'])\n",
    "plt.show()"
   ]
  },
  {
   "cell_type": "markdown",
   "metadata": {},
   "source": [
    "## Feature Extraction\n",
    "\n",
    "We are extracting three features for our classification:\n",
    "\n",
    "1. **MFCC:** Sounds generated by a human are filtered by the shape of the vocal tract. The shape of the vocal tract manifests itself in the envelope of the short time power spectrum, and the job of MFCCs is to accurately represent this envelope.\n",
    "\n",
    "2. **MFCC Delta:** Local estimate of the derivative of the input data along the Time axis\n",
    "\n",
    "3. **MFCC Delta Delta:** Local estimate of the second order derivative of the input data along the Time axis\n",
    "\n",
    "Other features like Chroma, Tonnetz , zero crossing rates were tried but didn't improve the results. These features are more related to musical notes."
   ]
  },
  {
   "cell_type": "code",
   "execution_count": 23,
   "metadata": {},
   "outputs": [],
   "source": [
    "#Extract Features of each sample \n",
    "def extract_feature(data,featured_data):\n",
    "    \n",
    "    for i in range(len(data)):\n",
    "        \n",
    "        mfcc = librosa.feature.mfcc(y=data[i] ,sr=SR,n_mfcc=N_MFCC)\n",
    "        mfcc_delta = librosa.feature.delta(mfcc,mode='nearest')\n",
    "        mfcc_delta_delta = librosa.feature.delta(mfcc,mode='nearest',order=2)\n",
    "        features = np.vstack((np.vstack((mfcc,mfcc_delta)),mfcc_delta_delta))\n",
    "        featured_data.append(features.T)\n",
    "        \n",
    "def extract_melspectrogram(data,mel_data):\n",
    "    for i in range(len(data)):\n",
    "        ms = librosa.feature.melspectrogram(y=data[i], sr=SR)\n",
    "        mel_data.append(ms)\n",
    "    \n",
    "    "
   ]
  },
  {
   "cell_type": "code",
   "execution_count": 24,
   "metadata": {},
   "outputs": [
    {
     "name": "stderr",
     "output_type": "stream",
     "text": [
      "/Library/Frameworks/Python.framework/Versions/3.7/lib/python3.7/site-packages/scipy/signal/_savitzky_golay.py:135: RuntimeWarning: internal gelsd driver lwork query error, required iwork dimension not returned. This is likely the result of LAPACK bug 0038, fixed in LAPACK 3.2.2 (released July 21, 2010). Falling back to 'gelss' driver.\n",
      "  coeffs, _, _, _ = lstsq(A, y)\n"
     ]
    }
   ],
   "source": [
    "# Loading the audio files\n",
    "with open('data.npy', 'rb') as file:\n",
    "    data = np.load(file)\n",
    "featured_data = []\n",
    "mel_data = []\n",
    "extract_feature(data,featured_data)\n",
    "extract_melspectrogram(data,mel_data)"
   ]
  },
  {
   "cell_type": "code",
   "execution_count": 25,
   "metadata": {},
   "outputs": [
    {
     "data": {
      "text/plain": [
       "(7442, 173, 60)"
      ]
     },
     "execution_count": 25,
     "metadata": {},
     "output_type": "execute_result"
    }
   ],
   "source": [
    "featured_data = np.asarray(featured_data)\n",
    "featured_data.shape"
   ]
  },
  {
   "cell_type": "code",
   "execution_count": 26,
   "metadata": {},
   "outputs": [
    {
     "data": {
      "text/plain": [
       "(7442, 128, 173)"
      ]
     },
     "execution_count": 26,
     "metadata": {},
     "output_type": "execute_result"
    }
   ],
   "source": [
    "mel_data= np.asarray(mel_data)\n",
    "mel_data.shape"
   ]
  },
  {
   "cell_type": "code",
   "execution_count": 27,
   "metadata": {},
   "outputs": [
    {
     "data": {
      "text/plain": [
       "(7442,)"
      ]
     },
     "execution_count": 27,
     "metadata": {},
     "output_type": "execute_result"
    }
   ],
   "source": [
    "label = np.asarray(label)\n",
    "label.shape"
   ]
  },
  {
   "cell_type": "code",
   "execution_count": 28,
   "metadata": {},
   "outputs": [],
   "source": [
    "X_train, X_test, y_train, y_test = train_test_split(featured_data,label, test_size=0.20, random_state=42)"
   ]
  },
  {
   "cell_type": "code",
   "execution_count": 29,
   "metadata": {},
   "outputs": [
    {
     "name": "stdout",
     "output_type": "stream",
     "text": [
      "train:(5953, 173, 60), test(1489, 173, 60) , y_train:(5953,), y_test:(1489,)\n"
     ]
    }
   ],
   "source": [
    "print(f'train:{X_train.shape}, test{X_test.shape} , y_train:{y_train.shape}, y_test:{y_test.shape}')"
   ]
  },
  {
   "cell_type": "code",
   "execution_count": 30,
   "metadata": {},
   "outputs": [],
   "source": [
    "# Reshape for CNN input\n",
    "X_train = np.array([x.reshape( (173, 60, 1) ) for x in X_train])\n",
    "X_test = np.array([x.reshape( (173, 60, 1) ) for x in X_test])"
   ]
  },
  {
   "cell_type": "code",
   "execution_count": 31,
   "metadata": {},
   "outputs": [
    {
     "data": {
      "text/plain": [
       "(1489, 173, 60, 1)"
      ]
     },
     "execution_count": 31,
     "metadata": {},
     "output_type": "execute_result"
    }
   ],
   "source": [
    "X_test.shape"
   ]
  },
  {
   "cell_type": "markdown",
   "metadata": {},
   "source": [
    "### Build Convolutional Layer"
   ]
  },
  {
   "cell_type": "code",
   "execution_count": 32,
   "metadata": {},
   "outputs": [
    {
     "name": "stdout",
     "output_type": "stream",
     "text": [
      "WARNING:tensorflow:From /Library/Frameworks/Python.framework/Versions/3.7/lib/python3.7/site-packages/tensorflow/python/ops/resource_variable_ops.py:435: colocate_with (from tensorflow.python.framework.ops) is deprecated and will be removed in a future version.\n",
      "Instructions for updating:\n",
      "Colocations handled automatically by placer.\n",
      "WARNING:tensorflow:From /Library/Frameworks/Python.framework/Versions/3.7/lib/python3.7/site-packages/tensorflow/python/keras/layers/core.py:143: calling dropout (from tensorflow.python.ops.nn_ops) with keep_prob is deprecated and will be removed in a future version.\n",
      "Instructions for updating:\n",
      "Please use `rate` instead of `keep_prob`. Rate should be set to `rate = 1 - keep_prob`.\n"
     ]
    }
   ],
   "source": [
    "model = tf.keras.Sequential()\n",
    "input_shape=(173,60, 1)\n",
    "\n",
    "model.add(Conv2D(24, (2, 2), strides=(1, 1), input_shape=input_shape))\n",
    "model.add(MaxPooling2D((4, 2), strides=(4, 2)))\n",
    "model.add(Activation('relu'))\n",
    "\n",
    "model.add(Conv2D(48, (2, 2), padding=\"valid\"))\n",
    "model.add(MaxPooling2D((4, 2), strides=(4, 2)))\n",
    "model.add(Activation('relu'))\n",
    "\n",
    "model.add(Conv2D(48, (2, 2), padding=\"valid\"))\n",
    "model.add(Activation('relu'))\n",
    "\n",
    "model.add(Flatten())\n",
    "model.add(Dropout(rate=0.5))\n",
    "\n",
    "model.add(Dense(64))\n",
    "model.add(Activation('relu'))\n",
    "model.add(Dropout(rate=0.5))\n",
    "\n",
    "model.add(Dense(3))\n",
    "model.add(Activation('softmax'))\n",
    "      "
   ]
  },
  {
   "cell_type": "code",
   "execution_count": 33,
   "metadata": {},
   "outputs": [
    {
     "data": {
      "text/plain": [
       "'1.13.1'"
      ]
     },
     "execution_count": 33,
     "metadata": {},
     "output_type": "execute_result"
    }
   ],
   "source": [
    "tf.__version__"
   ]
  },
  {
   "cell_type": "markdown",
   "metadata": {},
   "source": [
    "### Train Convolutional Neural Network"
   ]
  },
  {
   "cell_type": "code",
   "execution_count": 34,
   "metadata": {},
   "outputs": [
    {
     "name": "stdout",
     "output_type": "stream",
     "text": [
      "Train on 5953 samples, validate on 1489 samples\n",
      "Epoch 1/10\n",
      "5953/5953 [==============================] - 18s 3ms/sample - loss: 1.7792 - acc: 0.6083 - val_loss: 0.7397 - val_acc: 0.6998\n",
      "Epoch 2/10\n",
      "5953/5953 [==============================] - 19s 3ms/sample - loss: 0.7814 - acc: 0.6960 - val_loss: 0.7054 - val_acc: 0.7032\n",
      "Epoch 3/10\n",
      "5953/5953 [==============================] - 20s 3ms/sample - loss: 0.7375 - acc: 0.7097 - val_loss: 0.6956 - val_acc: 0.7146\n",
      "Epoch 4/10\n",
      "5953/5953 [==============================] - 18s 3ms/sample - loss: 0.7203 - acc: 0.7124 - val_loss: 0.6670 - val_acc: 0.7220\n",
      "Epoch 5/10\n",
      "5953/5953 [==============================] - 19s 3ms/sample - loss: 0.7105 - acc: 0.7190 - val_loss: 0.6509 - val_acc: 0.7361\n",
      "Epoch 6/10\n",
      "5953/5953 [==============================] - 19s 3ms/sample - loss: 0.6897 - acc: 0.7201 - val_loss: 0.6407 - val_acc: 0.7320\n",
      "Epoch 7/10\n",
      "5953/5953 [==============================] - 18s 3ms/sample - loss: 0.6718 - acc: 0.7287 - val_loss: 0.6320 - val_acc: 0.7374\n",
      "Epoch 8/10\n",
      "5953/5953 [==============================] - 20s 3ms/sample - loss: 0.6763 - acc: 0.7260 - val_loss: 0.6419 - val_acc: 0.7367\n",
      "Epoch 9/10\n",
      "5953/5953 [==============================] - 19s 3ms/sample - loss: 0.6570 - acc: 0.7295 - val_loss: 0.6265 - val_acc: 0.7401\n",
      "Epoch 10/10\n",
      "5953/5953 [==============================] - 19s 3ms/sample - loss: 0.6495 - acc: 0.7337 - val_loss: 0.6218 - val_acc: 0.7401\n",
      "1489/1489 [==============================] - 1s 606us/sample - loss: 0.6218 - acc: 0.7401\n",
      "Test loss: 0.621827249362054\n",
      "Test accuracy: 0.740094\n"
     ]
    }
   ],
   "source": [
    "model.compile(\n",
    "    optimizer=\"Adam\",\n",
    "    loss=\"sparse_categorical_crossentropy\",\n",
    "    metrics=['accuracy'])\n",
    "\n",
    "model.fit(\n",
    "    x=X_train, \n",
    "    y=y_train,\n",
    "    epochs=10,\n",
    "    batch_size=173,\n",
    "    validation_data= (X_test, y_test))\n",
    "\n",
    "score = model.evaluate(\n",
    "    x=X_test,\n",
    "    y=y_test)\n",
    "\n",
    "print('Test loss:', score[0])\n",
    "print('Test accuracy:', score[1])"
   ]
  },
  {
   "cell_type": "code",
   "execution_count": 35,
   "metadata": {},
   "outputs": [
    {
     "data": {
      "text/plain": [
       "[0.621827249362054, 0.740094]"
      ]
     },
     "execution_count": 35,
     "metadata": {},
     "output_type": "execute_result"
    }
   ],
   "source": [
    "score"
   ]
  },
  {
   "cell_type": "code",
   "execution_count": 38,
   "metadata": {},
   "outputs": [
    {
     "name": "stdout",
     "output_type": "stream",
     "text": [
      "/Users/saurabhiu/Desktop/DeepLearningProject/CREMA-D\r\n"
     ]
    }
   ],
   "source": [
    "!pwd"
   ]
  },
  {
   "cell_type": "code",
   "execution_count": null,
   "metadata": {},
   "outputs": [],
   "source": []
  }
 ],
 "metadata": {
  "kernelspec": {
   "display_name": "Python 3",
   "language": "python",
   "name": "python3"
  },
  "language_info": {
   "codemirror_mode": {
    "name": "ipython",
    "version": 3
   },
   "file_extension": ".py",
   "mimetype": "text/x-python",
   "name": "python",
   "nbconvert_exporter": "python",
   "pygments_lexer": "ipython3",
   "version": "3.7.0"
  },
  "toc": {
   "base_numbering": 1,
   "nav_menu": {},
   "number_sections": true,
   "sideBar": true,
   "skip_h1_title": false,
   "title_cell": "Table of Contents",
   "title_sidebar": "Contents",
   "toc_cell": false,
   "toc_position": {},
   "toc_section_display": true,
   "toc_window_display": false
  }
 },
 "nbformat": 4,
 "nbformat_minor": 2
}
